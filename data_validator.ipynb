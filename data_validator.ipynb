{
 "cells": [
  {
   "cell_type": "code",
   "execution_count": null,
   "id": "00af750f",
   "metadata": {},
   "outputs": [],
   "source": [
    "import pandas as pd\n",
    "import src.agent as agent"
   ]
  },
  {
   "cell_type": "code",
   "execution_count": null,
   "id": "fa41efad",
   "metadata": {},
   "outputs": [],
   "source": [
    "df = pd.read_csv(filepath_or_buffer=\"data/data_faulty.csv\")"
   ]
  },
  {
   "cell_type": "code",
   "execution_count": null,
   "id": "9c6dc35a",
   "metadata": {},
   "outputs": [],
   "source": [
    "_df = df.copy()\n",
    "\n",
    "columns_to_normalize = ['equipment_type', 'component']\n",
    "\n",
    "_df, mappings = agent.normalize_columns_with_llm(_df, columns_to_normalize, model='qwen2.5')"
   ]
  },
  {
   "cell_type": "code",
   "execution_count": null,
   "id": "22c962e8",
   "metadata": {},
   "outputs": [],
   "source": [
    "component = columns_to_normalize[1]\n",
    "mappings[component]"
   ]
  },
  {
   "cell_type": "code",
   "execution_count": null,
   "id": "5b61bd00",
   "metadata": {},
   "outputs": [],
   "source": [
    "df[component].unique()"
   ]
  },
  {
   "cell_type": "code",
   "execution_count": null,
   "id": "96f5997b",
   "metadata": {},
   "outputs": [],
   "source": [
    "_df[component].unique()"
   ]
  },
  {
   "cell_type": "code",
   "execution_count": null,
   "id": "eb140980",
   "metadata": {},
   "outputs": [],
   "source": []
  }
 ],
 "metadata": {
  "kernelspec": {
   "display_name": ".venv",
   "language": "python",
   "name": "python3"
  },
  "language_info": {
   "codemirror_mode": {
    "name": "ipython",
    "version": 3
   },
   "file_extension": ".py",
   "mimetype": "text/x-python",
   "name": "python",
   "nbconvert_exporter": "python",
   "pygments_lexer": "ipython3",
   "version": "3.13.2"
  }
 },
 "nbformat": 4,
 "nbformat_minor": 5
}
