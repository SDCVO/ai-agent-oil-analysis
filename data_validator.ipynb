{
 "cells": [
  {
   "cell_type": "code",
   "execution_count": null,
   "id": "00af750f",
   "metadata": {},
   "outputs": [],
   "source": [
    "import requests\n",
    "import os\n",
    "import json\n",
    "import pandas as pd\n",
    "\n",
    "from typing import Any, Hashable\n",
    "\n",
    "import src.agent as agent"
   ]
  },
  {
   "cell_type": "code",
   "execution_count": null,
   "id": "fa41efad",
   "metadata": {},
   "outputs": [],
   "source": [
    "df = pd.read_csv(\"data/data_faulty.csv\")"
   ]
  },
  {
   "cell_type": "code",
   "execution_count": null,
   "id": "201d9ce3",
   "metadata": {},
   "outputs": [],
   "source": [
    "plan_str = agent.get_cleaning_plan(df[[\"equipment_type\", \"component\"]], backend=\"ollama\", model=\"qwen2.5:3b\")\n",
    "plan = json.loads(plan_str)\n",
    "plan\n"
   ]
  },
  {
   "cell_type": "code",
   "execution_count": null,
   "id": "623a7151",
   "metadata": {},
   "outputs": [],
   "source": [
    "df2 = df.copy()\n",
    "df2 = agent.apply_cleaning_plan(df2, plan)"
   ]
  },
  {
   "cell_type": "code",
   "execution_count": null,
   "id": "1e479f81",
   "metadata": {},
   "outputs": [],
   "source": [
    "def validate_result(df_antes, df_depois, label):\n",
    "    df_merged = pd.merge(df_antes[['id', label]], df_depois[['id', label]], on='id', how='inner', suffixes=('_antes', '_depois'))\n",
    "    df_merged_modificado = df_merged[df_merged[f'{label}_antes'] != df_merged[f'{label}_depois']]\n",
    "    df_merged_igual = df_merged[df_merged[f'{label}_antes'] == df_merged[f'{label}_depois']]\n",
    "\n",
    "    print(f\"\"\"\n",
    "    Orginalmente existiam: {df_antes.shape[0]} registros\n",
    "\n",
    "    {df_merged_modificado.shape[0]} registros foram alterados\n",
    "    {df_merged_igual.shape[0]} registros permaneceram inalterados\n",
    "    \"\"\")\n",
    "    print('### Alterados ########')\n",
    "    print(df_merged_modificado[[f'{label}_antes', f'{label}_depois']].drop_duplicates())\n",
    "\n",
    "    print('### Iguais ##########')\n",
    "    print(df_merged_igual[[f'{label}_antes', f'{label}_depois']].drop_duplicates())\n"
   ]
  },
  {
   "cell_type": "code",
   "execution_count": null,
   "id": "9161ebad",
   "metadata": {},
   "outputs": [],
   "source": [
    "validate_result(df, df2, 'equipment_type')"
   ]
  },
  {
   "cell_type": "code",
   "execution_count": null,
   "id": "8afac820",
   "metadata": {},
   "outputs": [],
   "source": [
    "validate_result(df, df2, 'component')"
   ]
  }
 ],
 "metadata": {
  "kernelspec": {
   "display_name": ".venv",
   "language": "python",
   "name": "python3"
  },
  "language_info": {
   "codemirror_mode": {
    "name": "ipython",
    "version": 3
   },
   "file_extension": ".py",
   "mimetype": "text/x-python",
   "name": "python",
   "nbconvert_exporter": "python",
   "pygments_lexer": "ipython3",
   "version": "3.13.2"
  }
 },
 "nbformat": 4,
 "nbformat_minor": 5
}
